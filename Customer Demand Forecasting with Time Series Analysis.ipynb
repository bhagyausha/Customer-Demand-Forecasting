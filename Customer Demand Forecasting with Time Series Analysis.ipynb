{
 "cells": [
  {
   "cell_type": "code",
   "execution_count": 1,
   "id": "096463c8",
   "metadata": {},
   "outputs": [],
   "source": [
    "import pandas as pd\n",
    "\n",
    "data = {\n",
    "    'Month': pd.date_range(start='1/1/2010', periods=120, freq='M'),\n",
    "    'Demand': [500 + x * 10 + (x**1.5) * 10 for x in range(120)]\n",
    "}\n",
    "\n",
    "df = pd.DataFrame(data)\n",
    "df.to_csv('customer_demand.csv', index=False)\n"
   ]
  },
  {
   "cell_type": "code",
   "execution_count": 2,
   "id": "4184478c",
   "metadata": {},
   "outputs": [],
   "source": [
    "import pandas as pd\n",
    "\n",
    "df = pd.read_csv('customer_demand.csv')\n",
    "\n",
    "df.isnull().sum()\n",
    "df['Demand'] = df['Demand'].fillna(df['Demand'].mean())  \n",
    "\n",
    "df['Month'] = pd.to_datetime(df['Month'])\n"
   ]
  },
  {
   "cell_type": "code",
   "execution_count": 3,
   "id": "dab213e8",
   "metadata": {},
   "outputs": [],
   "source": [
    "#pip install prophet\n"
   ]
  },
  {
   "cell_type": "code",
   "execution_count": 12,
   "id": "348368ed",
   "metadata": {},
   "outputs": [
    {
     "name": "stderr",
     "output_type": "stream",
     "text": [
      "13:05:59 - cmdstanpy - INFO - Chain [1] start processing\n",
      "13:05:59 - cmdstanpy - INFO - Chain [1] done processing\n"
     ]
    },
    {
     "ename": "TypeError",
     "evalue": "Prophet.make_future_dataframe() got multiple values for argument 'periods'",
     "output_type": "error",
     "traceback": [
      "\u001b[0;31m---------------------------------------------------------------------------\u001b[0m",
      "\u001b[0;31mTypeError\u001b[0m                                 Traceback (most recent call last)",
      "Cell \u001b[0;32mIn [12], line 15\u001b[0m\n\u001b[1;32m     12\u001b[0m model\u001b[38;5;241m.\u001b[39mfit(df_prophet)\n\u001b[1;32m     14\u001b[0m \u001b[38;5;66;03m# Make future predictions (next 12 months)\u001b[39;00m\n\u001b[0;32m---> 15\u001b[0m future \u001b[38;5;241m=\u001b[39m \u001b[43mmodel\u001b[49m\u001b[38;5;241;43m.\u001b[39;49m\u001b[43mmake_future_dataframe\u001b[49m\u001b[43m(\u001b[49m\u001b[43mdf_prophet\u001b[49m\u001b[43m,\u001b[49m\u001b[43m \u001b[49m\u001b[43mperiods\u001b[49m\u001b[38;5;241;43m=\u001b[39;49m\u001b[38;5;241;43m12\u001b[39;49m\u001b[43m,\u001b[49m\u001b[43m \u001b[49m\u001b[43mfreq\u001b[49m\u001b[38;5;241;43m=\u001b[39;49m\u001b[38;5;124;43m'\u001b[39;49m\u001b[38;5;124;43mM\u001b[39;49m\u001b[38;5;124;43m'\u001b[39;49m\u001b[43m)\u001b[49m\n\u001b[1;32m     17\u001b[0m \u001b[38;5;66;03m# Forecast the future values\u001b[39;00m\n\u001b[1;32m     18\u001b[0m forecast \u001b[38;5;241m=\u001b[39m model\u001b[38;5;241m.\u001b[39mpredict(future)\n",
      "\u001b[0;31mTypeError\u001b[0m: Prophet.make_future_dataframe() got multiple values for argument 'periods'"
     ]
    }
   ],
   "source": [
    "import pandas as pd\n",
    "from prophet import Prophet\n",
    "\n",
    "# Ensure the 'Month' column is in datetime format\n",
    "df['Month'] = pd.to_datetime(df['Month'])\n",
    "\n",
    "# Rename the columns to match Prophet's expectations\n",
    "df_prophet = df[['Month', 'Demand']].rename(columns={'Month': 'ds', 'Demand': 'y'})\n",
    "\n",
    "# Initialize and fit the Prophet model\n",
    "model = Prophet()\n",
    "model.fit(df_prophet)\n",
    "\n",
    "# Make future predictions (next 12 months)\n",
    "future = model.make_future_dataframe(df_prophet, periods=12, freq='M')\n",
    "\n",
    "# Forecast the future values\n",
    "forecast = model.predict(future)\n",
    "\n",
    "# Plot the forecast\n",
    "model.plot(forecast)\n"
   ]
  },
  {
   "cell_type": "code",
   "execution_count": 10,
   "id": "1d3422ec",
   "metadata": {},
   "outputs": [
    {
     "name": "stdout",
     "output_type": "stream",
     "text": [
      "Index(['Month', 'Demand'], dtype='object')\n"
     ]
    }
   ],
   "source": [
    "print(df.columns)\n"
   ]
  },
  {
   "cell_type": "code",
   "execution_count": 13,
   "id": "02001882",
   "metadata": {},
   "outputs": [
    {
     "ename": "NameError",
     "evalue": "name 'forecast' is not defined",
     "output_type": "error",
     "traceback": [
      "\u001b[0;31m---------------------------------------------------------------------------\u001b[0m",
      "\u001b[0;31mNameError\u001b[0m                                 Traceback (most recent call last)",
      "Cell \u001b[0;32mIn [13], line 5\u001b[0m\n\u001b[1;32m      2\u001b[0m \u001b[38;5;28;01mimport\u001b[39;00m \u001b[38;5;21;01mnumpy\u001b[39;00m \u001b[38;5;28;01mas\u001b[39;00m \u001b[38;5;21;01mnp\u001b[39;00m\n\u001b[1;32m      4\u001b[0m \u001b[38;5;66;03m# Using the model's forecast on the original data\u001b[39;00m\n\u001b[0;32m----> 5\u001b[0m forecast_train \u001b[38;5;241m=\u001b[39m \u001b[43mforecast\u001b[49m[forecast[\u001b[38;5;124m'\u001b[39m\u001b[38;5;124mds\u001b[39m\u001b[38;5;124m'\u001b[39m] \u001b[38;5;241m<\u001b[39m\u001b[38;5;241m=\u001b[39m df_prophet[\u001b[38;5;124m'\u001b[39m\u001b[38;5;124mds\u001b[39m\u001b[38;5;124m'\u001b[39m]\u001b[38;5;241m.\u001b[39mmax()]\n\u001b[1;32m      7\u001b[0m \u001b[38;5;66;03m# Calculate RMSE\u001b[39;00m\n\u001b[1;32m      8\u001b[0m rmse \u001b[38;5;241m=\u001b[39m np\u001b[38;5;241m.\u001b[39msqrt(mean_squared_error(forecast_train[\u001b[38;5;124m'\u001b[39m\u001b[38;5;124my\u001b[39m\u001b[38;5;124m'\u001b[39m], forecast_train[\u001b[38;5;124m'\u001b[39m\u001b[38;5;124myhat\u001b[39m\u001b[38;5;124m'\u001b[39m]))\n",
      "\u001b[0;31mNameError\u001b[0m: name 'forecast' is not defined"
     ]
    }
   ],
   "source": [
    "from sklearn.metrics import mean_squared_error\n",
    "import numpy as np\n",
    "\n",
    "# Using the model's forecast on the original data\n",
    "forecast_train = forecast[forecast['ds'] <= df_prophet['ds'].max()]\n",
    "\n",
    "# Calculate RMSE\n",
    "rmse = np.sqrt(mean_squared_error(forecast_train['y'], forecast_train['yhat']))\n",
    "print(f\"RMSE: {rmse}\")\n"
   ]
  },
  {
   "cell_type": "code",
   "execution_count": null,
   "id": "08530aa4",
   "metadata": {},
   "outputs": [],
   "source": []
  }
 ],
 "metadata": {
  "kernelspec": {
   "display_name": "Python 3 (ipykernel)",
   "language": "python",
   "name": "python3"
  },
  "language_info": {
   "codemirror_mode": {
    "name": "ipython",
    "version": 3
   },
   "file_extension": ".py",
   "mimetype": "text/x-python",
   "name": "python",
   "nbconvert_exporter": "python",
   "pygments_lexer": "ipython3",
   "version": "3.10.6"
  },
  "toc": {
   "base_numbering": 1,
   "nav_menu": {},
   "number_sections": true,
   "sideBar": true,
   "skip_h1_title": false,
   "title_cell": "Table of Contents",
   "title_sidebar": "Contents",
   "toc_cell": false,
   "toc_position": {},
   "toc_section_display": true,
   "toc_window_display": false
  }
 },
 "nbformat": 4,
 "nbformat_minor": 5
}
